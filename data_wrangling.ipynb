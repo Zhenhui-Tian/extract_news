{
 "cells": [
  {
   "cell_type": "markdown",
   "metadata": {},
   "source": [
    "# data wrangling 的重要性分析\n",
    "\n",
    "突然想了一下，实际上我们并不需要进行data wrangling， 我们要做的，就是将content 和 title 里面的内容提取出来， 我们更应该关心的是将文本转为数据的预处理\n"
   ]
  },
  {
   "cell_type": "code",
   "execution_count": 3,
   "metadata": {},
   "outputs": [],
   "source": [
    "import pandas as pd\n",
    "import jieba"
   ]
  },
  {
   "cell_type": "code",
   "execution_count": 4,
   "metadata": {
    "scrolled": true
   },
   "outputs": [],
   "source": [
    "df = pd.read_csv(r'C:\\Users\\Terrence\\Documents\\NLP\\temp_data\\news.csv')"
   ]
  },
  {
   "cell_type": "code",
   "execution_count": 5,
   "metadata": {
    "scrolled": true
   },
   "outputs": [
    {
     "data": {
      "text/plain": [
       "'\\u3000\\u3000新华社德国杜塞尔多夫６月６日电题：乒乓女球迷\\u3000\\\\n\\u3000\\u3000新华社记者王子江、张寒\\\\n\\u3000\\u3000熊老师离开上海前，特意花一千多元买了一只张继科代言的球拍，准备在世界锦标赛期间他赢了比赛后，能在球拍上签个名。但没想到张继科在３２强赛中，输给了韩国的李尚洙。\\\\n\\u3000\\u3000“拍子算是白拿过来了。”熊老师摇头，“就算是信仰充值了。”\\\\n\\u3000\\u3000“信仰充值”是乒乓球粉丝圈非常流行的词汇，简单来说，就是为自己喜欢的明星或球队花钱。\\\\n\\u3000\\u3000“熊老师”是这位２２岁的成都姑娘的“艺名”，“艺名”这一称呼也是她们自己形容的。熊老师的真实身份是上海一所名牌大学会计专业的大四学生，其他同学正在抓紧毕业找工作，她一个人溜到德国观看世乒赛。尽管带着张继科的球拍，但熊老师并不是张的铁粉，她并不喜欢张继科输了比赛之后，一堆“科迷”在赛场外抱头痛哭的场景，而显得比较理智。但是因为“科迷”数量众多，让她这种散户，也有些说不出的羡慕。\\\\n\\u3000\\u3000“他们竟然连续两天买断了一面看台上所有的门票，为的是挂起带有张继科名字的旗子，两天就要花４、５万人民币。”熊老师直喊过分。\\\\n\\u3000\\u3000熊老师与其他１０名中国队女球迷挤在一套三居室里，厨房的柜子里塞了很多方便面。至少三个人挤在一个房间里，条件的确差了点，但住宿费平摊下来每天只有大约２００元人民币，这样让大家心里平衡了很多。\\\\n\\u3000\\u3000房间里的所有人都是在网上认识的，大家也并不全知道对方真实的姓名和身份。“我们都用艺名。”来自广州的茶茶说。茶茶已经工作了几年，这次也是利用假期出来的。\\\\n\\u3000\\u3000所有人都是提前大约半年从国际乒联的官网上买了比赛的通票，可以观看全程所有的比赛，票价大约两千块人民币。５月底６月初并不是旅游旺季，机票也不是太贵，这让她们都很庆幸。\\\\n\\u3000\\u3000里面最幸运的应该是井井，她这次来的身份是一家时尚媒体的记者，她申请到了记者证，每天背着一个大相机在场地里边拍照边看球。她提前大约一个星期就来到了德国，比赛开始前她去附近几个城市玩了玩，这一趟世乒赛之旅非常充实。\\\\n\\u3000\\u3000十几个人中最不像球迷的是一位来自香港的女大学生，看上去文静内向，其他人都叫她香港妹。香港妹与熊老师一样，都是学的会计专业。她告诉父母这次出来是到德国看朋友，住宿和球票的花费都是平时做家教挣的，父母支援了机票钱，从香港到杜塞尔多夫往返只有三千多元人民币，让其他内地球迷非常羡慕。\\\\n\\u3000\\u3000香港妹以前并不懂乒乓球，去年里约奥运会时，一家人边吃饭边看电视，正好电视直播乒乓球比赛，从此她就成了中国队的球迷。\\\\n\\u3000\\u3000香港妹更让人羡慕的还是来德国不用签证，不过熊老师也欣慰地说，这次有了德国的签证，以后去日本看比赛签证就容易多了。\\\\n\\u3000\\u3000这些女孩子大部分都是第一次出国，以前都是在国内看比赛，熊老师自称这几年甚至到过一些非常奇葩的赛场，去年一个比赛在东北某城市举行，由于赛场过于偏僻，她在手机上点了外卖，最后却被强制退单，她饿着肚子看完了比赛。\\\\n\\u3000\\u3000女球迷们每天早出晚归，看完比赛回来有时候近半夜，回来之后还要互相交流当天的看球感想，十几个女孩子叽叽喳喳，吵得楼上一个德国老太太下来敲门，让她们保持安静，但她们聊着聊着仍然不自觉嗓门就大起来。\\\\n\\u3000\\u3000世乒赛闭幕那天晚上，她们在餐馆里吃了顿散伙饭。中国队拿了４个冠军，但每个人的心情不一样，因为她们支持的偶像并不完全相同。好几人支持刘诗雯，但她在女单半决赛就输了。“小伙伴们一起丧了很久。”井井在朋友圈里说。\\\\n\\u3000\\u3000告别的那天，大家不约而同在朋友圈里晒了聚餐的照片，伤感地告别。\\\\n\\u3000\\u3000“走了，杜塞尔多夫。”井井说。\\\\n\\u3000\\u3000“在这呆了一个星期，要走了还是有点不舍得，都还没好好看看这个城市，再见啦，杜塞。”茶茶说。\\\\n\\u3000\\u3000熊老师最后一条朋友圈发的是丁宁和刘诗雯赢得女双冠军的照片。\\\\n\\u3000\\u3000“懂事之前，情动以后，长不过一天。留不住，算不出，流年。”她写道。（完）\\\\n'"
      ]
     },
     "execution_count": 5,
     "metadata": {},
     "output_type": "execute_result"
    }
   ],
   "source": [
    "df['content'][0]"
   ]
  },
  {
   "cell_type": "code",
   "execution_count": 36,
   "metadata": {},
   "outputs": [],
   "source": [
    "import pickle\n",
    "file_pos = open(r'C:\\Users\\Terrence\\Documents\\NLP\\extract_news\\temp_data\\pos.pickle', 'rb')\n",
    "pos_pd = pd.DataFrame(pickle.load(file_pos))"
   ]
  },
  {
   "cell_type": "code",
   "execution_count": 38,
   "metadata": {
    "scrolled": true
   },
   "outputs": [
    {
     "ename": "EOFError",
     "evalue": "Ran out of input",
     "output_type": "error",
     "traceback": [
      "\u001b[1;31m---------------------------------------------------------------------------\u001b[0m",
      "\u001b[1;31mEOFError\u001b[0m                                  Traceback (most recent call last)",
      "\u001b[1;32m<ipython-input-38-0fa618e04f1b>\u001b[0m in \u001b[0;36m<module>\u001b[1;34m\u001b[0m\n\u001b[1;32m----> 1\u001b[1;33m \u001b[0mpos_dict\u001b[0m \u001b[1;33m=\u001b[0m \u001b[0mpickle\u001b[0m\u001b[1;33m.\u001b[0m\u001b[0mload\u001b[0m\u001b[1;33m(\u001b[0m\u001b[0mfile_pos\u001b[0m\u001b[1;33m)\u001b[0m\u001b[1;33m\u001b[0m\u001b[1;33m\u001b[0m\u001b[0m\n\u001b[0m\u001b[0;32m      2\u001b[0m \u001b[0mpos_dict\u001b[0m\u001b[1;33m\u001b[0m\u001b[1;33m\u001b[0m\u001b[0m\n",
      "\u001b[1;31mEOFError\u001b[0m: Ran out of input"
     ]
    }
   ],
   "source": []
  },
  {
   "cell_type": "code",
   "execution_count": null,
   "metadata": {},
   "outputs": [],
   "source": [
    "### pos 里面又空的啊，怎么回事 不是把空的 content都去掉了嘛"
   ]
  },
  {
   "cell_type": "code",
   "execution_count": 40,
   "metadata": {},
   "outputs": [
    {
     "data": {
      "text/html": [
       "<div>\n",
       "<style scoped>\n",
       "    .dataframe tbody tr th:only-of-type {\n",
       "        vertical-align: middle;\n",
       "    }\n",
       "\n",
       "    .dataframe tbody tr th {\n",
       "        vertical-align: top;\n",
       "    }\n",
       "\n",
       "    .dataframe thead th {\n",
       "        text-align: right;\n",
       "    }\n",
       "</style>\n",
       "<table border=\"1\" class=\"dataframe\">\n",
       "  <thead>\n",
       "    <tr style=\"text-align: right;\">\n",
       "      <th></th>\n",
       "      <th>sentence</th>\n",
       "      <th>tags</th>\n",
       "      <th>ner</th>\n",
       "    </tr>\n",
       "  </thead>\n",
       "  <tbody>\n",
       "    <tr>\n",
       "      <td>0</td>\n",
       "      <td>[新华社, 德国, 杜塞尔多夫, ６月, ６日, 电, 题, ：, 乒乓, 女, 球迷, \\...</td>\n",
       "      <td>[ni, ns, ns, nt, nt, n, n, wp, j, b, n, nh, ws...</td>\n",
       "      <td>[S-Ni, B-Ns, E-Ns, O, O, O, O, O, O, O, O, S-N...</td>\n",
       "    </tr>\n",
       "    <tr>\n",
       "      <td>1</td>\n",
       "      <td>[但, 没, 想到, 张继科, 在, ３２, 强, 赛, 中, ，, 输, 给, 了, 韩国...</td>\n",
       "      <td>[c, d, v, nh, p, m, n, v, nd, wp, v, v, u, ns,...</td>\n",
       "      <td>[O, O, O, S-Nh, O, O, O, O, O, O, O, O, O, S-N...</td>\n",
       "    </tr>\n",
       "    <tr>\n",
       "      <td>2</td>\n",
       "      <td>[\\, n, “, 拍子, 算是, 白, 拿, 过来, 了]</td>\n",
       "      <td>[nh, ws, wp, n, v, d, v, v, u]</td>\n",
       "      <td>[S-Nh, O, O, O, O, O, O, O, O]</td>\n",
       "    </tr>\n",
       "    <tr>\n",
       "      <td>3</td>\n",
       "      <td>[”, 熊, 老师, 摇头, ，, “, 就, 算是, 信仰, 充值, 了]</td>\n",
       "      <td>[wp, nh, n, v, wp, wp, d, v, n, v, u]</td>\n",
       "      <td>[O, S-Nh, O, O, O, O, O, O, O, O, O]</td>\n",
       "    </tr>\n",
       "    <tr>\n",
       "      <td>4</td>\n",
       "      <td>[”, \\, n, “, 信仰, 充值, ”, 是, 乒乓球, 粉丝, 圈, 非常, 流行,...</td>\n",
       "      <td>[wp, v, ws, wp, v, n, wp, v, n, n, n, d, v, u,...</td>\n",
       "      <td>[O, O, O, O, O, O, O, O, O, O, O, O, O, O, O, ...</td>\n",
       "    </tr>\n",
       "    <tr>\n",
       "      <td>...</td>\n",
       "      <td>...</td>\n",
       "      <td>...</td>\n",
       "      <td>...</td>\n",
       "    </tr>\n",
       "    <tr>\n",
       "      <td>825918</td>\n",
       "      <td>[MIUI, 8, 去年, 5月, 发布, ，, 距, 今, 已, 有, 一, 年, 有余,...</td>\n",
       "      <td>[ws, m, nt, nt, v, wp, p, nt, d, v, m, q, v, w...</td>\n",
       "      <td>[O, O, O, O, O, O, O, O, O, O, O, O, O, O, O, ...</td>\n",
       "    </tr>\n",
       "    <tr>\n",
       "      <td>825919</td>\n",
       "      <td>[]</td>\n",
       "      <td>[]</td>\n",
       "      <td>[]</td>\n",
       "    </tr>\n",
       "    <tr>\n",
       "      <td>825920</td>\n",
       "      <td>[当然, ，, 关于, MIUI, 9, 的, 确切, 信息, ，, 我们, 还是, 等待,...</td>\n",
       "      <td>[d, wp, p, ws, m, u, a, n, wp, r, d, v, n, n]</td>\n",
       "      <td>[O, O, O, O, O, O, O, O, O, O, O, O, O, O]</td>\n",
       "    </tr>\n",
       "    <tr>\n",
       "      <td>825921</td>\n",
       "      <td>[]</td>\n",
       "      <td>[]</td>\n",
       "      <td>[]</td>\n",
       "    </tr>\n",
       "    <tr>\n",
       "      <td>825922</td>\n",
       "      <td>[]</td>\n",
       "      <td>[]</td>\n",
       "      <td>[]</td>\n",
       "    </tr>\n",
       "  </tbody>\n",
       "</table>\n",
       "<p>825923 rows × 3 columns</p>\n",
       "</div>"
      ],
      "text/plain": [
       "                                                 sentence  \\\n",
       "0       [新华社, 德国, 杜塞尔多夫, ６月, ６日, 电, 题, ：, 乒乓, 女, 球迷, \\...   \n",
       "1       [但, 没, 想到, 张继科, 在, ３２, 强, 赛, 中, ，, 输, 给, 了, 韩国...   \n",
       "2                          [\\, n, “, 拍子, 算是, 白, 拿, 过来, 了]   \n",
       "3                  [”, 熊, 老师, 摇头, ，, “, 就, 算是, 信仰, 充值, 了]   \n",
       "4       [”, \\, n, “, 信仰, 充值, ”, 是, 乒乓球, 粉丝, 圈, 非常, 流行,...   \n",
       "...                                                   ...   \n",
       "825918  [MIUI, 8, 去年, 5月, 发布, ，, 距, 今, 已, 有, 一, 年, 有余,...   \n",
       "825919                                                 []   \n",
       "825920  [当然, ，, 关于, MIUI, 9, 的, 确切, 信息, ，, 我们, 还是, 等待,...   \n",
       "825921                                                 []   \n",
       "825922                                                 []   \n",
       "\n",
       "                                                     tags  \\\n",
       "0       [ni, ns, ns, nt, nt, n, n, wp, j, b, n, nh, ws...   \n",
       "1       [c, d, v, nh, p, m, n, v, nd, wp, v, v, u, ns,...   \n",
       "2                          [nh, ws, wp, n, v, d, v, v, u]   \n",
       "3                   [wp, nh, n, v, wp, wp, d, v, n, v, u]   \n",
       "4       [wp, v, ws, wp, v, n, wp, v, n, n, n, d, v, u,...   \n",
       "...                                                   ...   \n",
       "825918  [ws, m, nt, nt, v, wp, p, nt, d, v, m, q, v, w...   \n",
       "825919                                                 []   \n",
       "825920      [d, wp, p, ws, m, u, a, n, wp, r, d, v, n, n]   \n",
       "825921                                                 []   \n",
       "825922                                                 []   \n",
       "\n",
       "                                                      ner  \n",
       "0       [S-Ni, B-Ns, E-Ns, O, O, O, O, O, O, O, O, S-N...  \n",
       "1       [O, O, O, S-Nh, O, O, O, O, O, O, O, O, O, S-N...  \n",
       "2                          [S-Nh, O, O, O, O, O, O, O, O]  \n",
       "3                    [O, S-Nh, O, O, O, O, O, O, O, O, O]  \n",
       "4       [O, O, O, O, O, O, O, O, O, O, O, O, O, O, O, ...  \n",
       "...                                                   ...  \n",
       "825918  [O, O, O, O, O, O, O, O, O, O, O, O, O, O, O, ...  \n",
       "825919                                                 []  \n",
       "825920         [O, O, O, O, O, O, O, O, O, O, O, O, O, O]  \n",
       "825921                                                 []  \n",
       "825922                                                 []  \n",
       "\n",
       "[825923 rows x 3 columns]"
      ]
     },
     "execution_count": 40,
     "metadata": {},
     "output_type": "execute_result"
    }
   ],
   "source": [
    "file = open(r'C:\\Users\\Terrence\\Documents\\NLP\\NLP_tools\\ltp_data_v3.4.0\\ltp_data_v3.4.0\\ner.pickle', 'rb')\n",
    "pd.DataFrame(pickle.load(file))\n",
    "# 怎么结果好多 O \n",
    "# O 表示这个词不是NE"
   ]
  },
  {
   "cell_type": "code",
   "execution_count": 28,
   "metadata": {},
   "outputs": [
    {
     "name": "stdout",
     "output_type": "stream",
     "text": [
      "Full Mode: 欢迎/ 我/ 来到/ / / 北京/ 清华/ 清华大学/ 华大/ 大学/ 是/ 第一/ 一好/ 的/ 大学\n"
     ]
    }
   ],
   "source": [
    "seg_list = jieba.cut(\"欢迎我来到。北京清华大学是第一好的大学\", cut_all=True, HMM=False)\n",
    "print(\"Full Mode: \" + \"/ \".join(seg_list))  # 全模式"
   ]
  },
  {
   "cell_type": "code",
   "execution_count": null,
   "metadata": {},
   "outputs": [],
   "source": []
  }
 ],
 "metadata": {
  "kernelspec": {
   "display_name": "Python [conda env:NLP]",
   "language": "python",
   "name": "conda-env-NLP-py"
  },
  "language_info": {
   "codemirror_mode": {
    "name": "ipython",
    "version": 3
   },
   "file_extension": ".py",
   "mimetype": "text/x-python",
   "name": "python",
   "nbconvert_exporter": "python",
   "pygments_lexer": "ipython3",
   "version": "3.6.9"
  }
 },
 "nbformat": 4,
 "nbformat_minor": 2
}
